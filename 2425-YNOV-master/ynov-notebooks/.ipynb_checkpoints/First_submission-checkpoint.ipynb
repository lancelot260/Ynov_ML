{
 "cells": [
  {
   "cell_type": "markdown",
   "id": "5768e635-f7b4-4316-90f0-9e33320b1729",
   "metadata": {},
   "source": [
    "### Import"
   ]
  },
  {
   "cell_type": "code",
   "execution_count": 5,
   "id": "1197a7ea-57f5-415e-8688-ea721ba3d61d",
   "metadata": {},
   "outputs": [],
   "source": [
    "import pandas as pd\n",
    "import os"
   ]
  },
  {
   "cell_type": "markdown",
   "id": "ee54c93b-ea5b-4d3d-add4-a416ef36211c",
   "metadata": {},
   "source": [
    "### Load Data"
   ]
  },
  {
   "cell_type": "markdown",
   "id": "c64a9a03-e8ff-4342-82ae-2ffec8fafe2f",
   "metadata": {},
   "source": [
    "For the folder path you can write or use a function shared with you in the code"
   ]
  },
  {
   "cell_type": "code",
   "execution_count": 13,
   "id": "c195deb5-d8e1-4cc0-98c6-041da4b0c079",
   "metadata": {},
   "outputs": [],
   "source": [
    "folder_path = \"../ynov-data\""
   ]
  },
  {
   "cell_type": "code",
   "execution_count": 15,
   "id": "150ba46b-b58c-4b9e-91da-5f90604b087e",
   "metadata": {},
   "outputs": [],
   "source": [
    "from ynov import utils"
   ]
  },
  {
   "cell_type": "code",
   "execution_count": 16,
   "id": "8fffa19d-78c5-4ebe-b837-f21a1b52b348",
   "metadata": {},
   "outputs": [],
   "source": [
    "folder_path = utils.get_data_path()"
   ]
  },
  {
   "cell_type": "code",
   "execution_count": 18,
   "id": "59f404c4-898d-408e-a96e-e785370f1320",
   "metadata": {},
   "outputs": [
    {
     "name": "stdout",
     "output_type": "stream",
     "text": [
      "/Users/FRANCOIS/project/trainings/YNOV/2425-YNOV/ynov-data\n"
     ]
    }
   ],
   "source": [
    "print(folder_path)"
   ]
  },
  {
   "cell_type": "code",
   "execution_count": 24,
   "id": "797d5a6b-60be-4680-a3ec-b4be660487d2",
   "metadata": {},
   "outputs": [],
   "source": [
    "df_train = pd.read_csv(os.path.join(folder_path, \"train_housing.csv\"))\n",
    "submission = pd.read_csv(os.path.join(folder_path, \"submission.csv\"))"
   ]
  },
  {
   "cell_type": "markdown",
   "id": "ea393d0f-82e0-42e5-910f-4362362961c8",
   "metadata": {},
   "source": [
    "### Random Split"
   ]
  },
  {
   "cell_type": "code",
   "execution_count": 25,
   "id": "202cc64c-15c8-4edf-901e-c10ec7a79906",
   "metadata": {},
   "outputs": [],
   "source": [
    "from sklearn.model_selection import train_test_split"
   ]
  },
  {
   "cell_type": "code",
   "execution_count": 29,
   "id": "f8c1f302-d9e6-4437-aa09-74df7bb7a0da",
   "metadata": {},
   "outputs": [],
   "source": [
    "train_df, valid_df = train_test_split(df_train, test_size=0.3, random_state=42)"
   ]
  },
  {
   "cell_type": "markdown",
   "id": "2277c69d-db3c-4341-85ec-9fd96fc8b630",
   "metadata": {},
   "source": [
    "I recommend to save the new train and valid to use the same ones later"
   ]
  },
  {
   "cell_type": "code",
   "execution_count": 30,
   "id": "5fae39ca-1534-4755-a916-6bf29bdc59a2",
   "metadata": {},
   "outputs": [],
   "source": [
    "train_df.to_csv(os.path.join(folder_path, \"train_housing_data.csv\"))\n",
    "valid_df.to_csv(os.path.join(folder_path, \"valid_housing_data.csv\"))"
   ]
  },
  {
   "cell_type": "markdown",
   "id": "f5d0e928-af6c-42aa-b8d4-4956ba17b7ad",
   "metadata": {},
   "source": [
    "### Stratified split"
   ]
  },
  {
   "cell_type": "code",
   "execution_count": 31,
   "id": "094b05fa-f22d-4edc-8138-ed851d4766e0",
   "metadata": {},
   "outputs": [
    {
     "data": {
      "text/plain": [
       "Index(['longitude', 'latitude', 'housing_median_age', 'total_rooms',\n",
       "       'total_bedrooms', 'population', 'households', 'median_income',\n",
       "       'median_house_value', 'ocean_proximity', 'id'],\n",
       "      dtype='object')"
      ]
     },
     "execution_count": 31,
     "metadata": {},
     "output_type": "execute_result"
    }
   ],
   "source": [
    "df_train.columns"
   ]
  },
  {
   "cell_type": "code",
   "execution_count": 34,
   "id": "7245fb95-b82b-4fa1-bd18-5fe29d99bf4b",
   "metadata": {},
   "outputs": [],
   "source": [
    "num_bins = 10  # Number of bins\n",
    "df_train['Target_bin'] = pd.qcut(df_train['median_house_value'], q=num_bins, labels=False)  #"
   ]
  },
  {
   "cell_type": "code",
   "execution_count": 35,
   "id": "6438e46e-7a26-4015-b448-673c8b947601",
   "metadata": {},
   "outputs": [],
   "source": [
    "train_df, valid_df = train_test_split(df_train, test_size=0.3, random_state=42, stratify=df_train['Target_bin'])"
   ]
  },
  {
   "cell_type": "code",
   "execution_count": 36,
   "id": "cfc89432-b4d2-436b-a3b5-66e26d873ed0",
   "metadata": {},
   "outputs": [],
   "source": [
    "train_df.to_csv(os.path.join(folder_path, \"train_housing_data_stratified.csv\"))\n",
    "valid_df.to_csv(os.path.join(folder_path, \"valid_housing_data_stratified.csv\"))"
   ]
  },
  {
   "cell_type": "markdown",
   "id": "bfd241d5-6a89-4f7c-8469-953b8e958c53",
   "metadata": {},
   "source": [
    "### Calculate mean on new train"
   ]
  },
  {
   "cell_type": "code",
   "execution_count": 38,
   "id": "a1eaec42-783f-4b27-8693-a01f5d1e3fd4",
   "metadata": {},
   "outputs": [],
   "source": [
    "average_median_house_value = train_df.median_house_value.mean()"
   ]
  },
  {
   "cell_type": "code",
   "execution_count": 39,
   "id": "20dd71ce-9375-499c-93e7-b8a701073866",
   "metadata": {},
   "outputs": [
    {
     "name": "stdout",
     "output_type": "stream",
     "text": [
      "206609.7363095238\n"
     ]
    }
   ],
   "source": [
    "print(average_median_house_value)"
   ]
  },
  {
   "cell_type": "markdown",
   "id": "d64ed2f4-bcc0-4805-a187-fe417dbff70f",
   "metadata": {},
   "source": [
    "### Apply it to valid on calculate the RMSE"
   ]
  },
  {
   "cell_type": "code",
   "execution_count": 50,
   "id": "11057e80-7e5f-4af6-a9ce-8f2f09b8abb7",
   "metadata": {},
   "outputs": [],
   "source": [
    "from sklearn.metrics import mean_squared_error, root_mean_squared_error"
   ]
  },
  {
   "cell_type": "code",
   "execution_count": 51,
   "id": "f71317d2-5d1d-4dfe-a7b3-c7c1dc5f8c91",
   "metadata": {},
   "outputs": [],
   "source": [
    "valid_df[\"predictions\"] = average_median_house_value\n",
    "train_df[\"predictions\"] = average_median_house_value"
   ]
  },
  {
   "cell_type": "code",
   "execution_count": 52,
   "id": "b005fc45-1630-4d0a-b4b2-8c5b5b45c0b7",
   "metadata": {},
   "outputs": [],
   "source": [
    "rmse_train = root_mean_squared_error(train_df[\"predictions\"], train_df[\"median_house_value\"])\n",
    "rmse_valid = root_mean_squared_error(valid_df[\"predictions\"], valid_df[\"median_house_value\"])"
   ]
  },
  {
   "cell_type": "code",
   "execution_count": 53,
   "id": "82b67704-e529-44eb-8396-e1eea16cf082",
   "metadata": {},
   "outputs": [
    {
     "name": "stdout",
     "output_type": "stream",
     "text": [
      "the RMSE on train: is 115690.43788022296\n"
     ]
    }
   ],
   "source": [
    "print(f\"the RMSE on train: is {rmse_train}\")"
   ]
  },
  {
   "cell_type": "code",
   "execution_count": 54,
   "id": "bd607092-6abf-4a19-aef6-4e267ea2025c",
   "metadata": {},
   "outputs": [
    {
     "name": "stdout",
     "output_type": "stream",
     "text": [
      "the RMSE on valid: is 115880.55613810578\n"
     ]
    }
   ],
   "source": [
    "print(f\"the RMSE on valid: is {rmse_valid}\")"
   ]
  },
  {
   "cell_type": "markdown",
   "id": "776bb4cd-f704-4860-9d50-71bd667dd42c",
   "metadata": {},
   "source": [
    "### Build submission file "
   ]
  },
  {
   "cell_type": "code",
   "execution_count": 58,
   "id": "65b72b7f-f761-440b-bb1c-e53e21922b61",
   "metadata": {},
   "outputs": [],
   "source": [
    "submission[\"median_house_value\"] = average_median_house_value"
   ]
  },
  {
   "cell_type": "code",
   "execution_count": 60,
   "id": "0a40155b-b14c-4fb2-b1fb-1b3faf5e5ca0",
   "metadata": {},
   "outputs": [],
   "source": [
    "submission.to_csv(os.path.join(folder_path,\"submissions\",\"subission_baseline.csv\"), sep=\",\", index=False)\n"
   ]
  },
  {
   "cell_type": "code",
   "execution_count": null,
   "id": "ce8a800f-0b00-4951-84f0-c558639d04d5",
   "metadata": {},
   "outputs": [],
   "source": []
  }
 ],
 "metadata": {
  "kernelspec": {
   "display_name": "Python 3 (ipykernel)",
   "language": "python",
   "name": "python3"
  },
  "language_info": {
   "codemirror_mode": {
    "name": "ipython",
    "version": 3
   },
   "file_extension": ".py",
   "mimetype": "text/x-python",
   "name": "python",
   "nbconvert_exporter": "python",
   "pygments_lexer": "ipython3",
   "version": "3.10.1"
  }
 },
 "nbformat": 4,
 "nbformat_minor": 5
}
