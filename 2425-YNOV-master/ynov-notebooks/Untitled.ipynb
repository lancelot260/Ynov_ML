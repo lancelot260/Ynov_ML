{
 "cells": [
  {
   "cell_type": "code",
   "execution_count": 10,
   "id": "03667d53-c9a4-4a83-9cb8-d08cfd7d42c4",
   "metadata": {},
   "outputs": [],
   "source": [
    "import pandas as pd\n",
    "from sklearn.linear_model import LinearRegression\n",
    "from sklearn.metrics import root_mean_squared_error\n",
    "import os\n",
    "from ynov import utils"
   ]
  },
  {
   "cell_type": "code",
   "execution_count": 3,
   "id": "7b145b1e-48e3-492b-b27a-b7cf2903081b",
   "metadata": {},
   "outputs": [],
   "source": [
    "folder_path = \"../ynov-data\""
   ]
  },
  {
   "cell_type": "code",
   "execution_count": 4,
   "id": "58d82c85-789c-4a95-8951-1ae05693cf40",
   "metadata": {},
   "outputs": [],
   "source": [
    "folder_path = utils.get_data_path()"
   ]
  },
  {
   "cell_type": "code",
   "execution_count": 5,
   "id": "eaba455e-184e-4ff0-b8f4-b6053e82585d",
   "metadata": {},
   "outputs": [
    {
     "name": "stdout",
     "output_type": "stream",
     "text": [
      "C:\\Users\\filou\\Documents\\ynov\\M2\\ML\\Ynov_ML\\2425-YNOV-master\\ynov-data\n"
     ]
    }
   ],
   "source": [
    "print(folder_path)"
   ]
  },
  {
   "cell_type": "code",
   "execution_count": 8,
   "id": "636479a8-4c93-4173-8fd3-62072f43c3e3",
   "metadata": {},
   "outputs": [],
   "source": [
    "df_train = pd.read_csv(os.path.join(folder_path, \"train_housing_data.csv\"))\n",
    "df_valid = pd.read_csv(os.path.join(folder_path, \"train_housing_data.csv\"))\n",
    "submission = pd.read_csv(os.path.join(folder_path, \"submission.csv\"))"
   ]
  },
  {
   "cell_type": "code",
   "execution_count": 14,
   "id": "70130524-4ddb-4970-acea-01c51a49850a",
   "metadata": {},
   "outputs": [],
   "source": [
    "df_train_OG = df_train"
   ]
  },
  {
   "cell_type": "code",
   "execution_count": 15,
   "id": "35e6dba2-4cf1-420f-8084-2d512cae5a9e",
   "metadata": {},
   "outputs": [
    {
     "data": {
      "text/html": [
       "<div>\n",
       "<style scoped>\n",
       "    .dataframe tbody tr th:only-of-type {\n",
       "        vertical-align: middle;\n",
       "    }\n",
       "\n",
       "    .dataframe tbody tr th {\n",
       "        vertical-align: top;\n",
       "    }\n",
       "\n",
       "    .dataframe thead th {\n",
       "        text-align: right;\n",
       "    }\n",
       "</style>\n",
       "<table border=\"1\" class=\"dataframe\">\n",
       "  <thead>\n",
       "    <tr style=\"text-align: right;\">\n",
       "      <th></th>\n",
       "      <th>Unnamed: 0</th>\n",
       "      <th>longitude</th>\n",
       "      <th>latitude</th>\n",
       "      <th>housing_median_age</th>\n",
       "      <th>total_rooms</th>\n",
       "      <th>total_bedrooms</th>\n",
       "      <th>population</th>\n",
       "      <th>households</th>\n",
       "      <th>median_income</th>\n",
       "      <th>median_house_value</th>\n",
       "      <th>ocean_proximity</th>\n",
       "      <th>id</th>\n",
       "    </tr>\n",
       "  </thead>\n",
       "  <tbody>\n",
       "    <tr>\n",
       "      <th>0</th>\n",
       "      <td>7729</td>\n",
       "      <td>-121.32</td>\n",
       "      <td>36.79</td>\n",
       "      <td>30.0</td>\n",
       "      <td>516.0</td>\n",
       "      <td>90.0</td>\n",
       "      <td>288.0</td>\n",
       "      <td>95.0</td>\n",
       "      <td>3.6333</td>\n",
       "      <td>202500.0</td>\n",
       "      <td>INLAND</td>\n",
       "      <td>13171</td>\n",
       "    </tr>\n",
       "    <tr>\n",
       "      <th>1</th>\n",
       "      <td>3546</td>\n",
       "      <td>-117.74</td>\n",
       "      <td>34.03</td>\n",
       "      <td>27.0</td>\n",
       "      <td>3623.0</td>\n",
       "      <td>809.0</td>\n",
       "      <td>3712.0</td>\n",
       "      <td>754.0</td>\n",
       "      <td>3.4609</td>\n",
       "      <td>123300.0</td>\n",
       "      <td>INLAND</td>\n",
       "      <td>6050</td>\n",
       "    </tr>\n",
       "    <tr>\n",
       "      <th>2</th>\n",
       "      <td>3527</td>\n",
       "      <td>-117.80</td>\n",
       "      <td>34.05</td>\n",
       "      <td>5.0</td>\n",
       "      <td>4536.0</td>\n",
       "      <td>1178.0</td>\n",
       "      <td>2485.0</td>\n",
       "      <td>909.0</td>\n",
       "      <td>4.1118</td>\n",
       "      <td>125900.0</td>\n",
       "      <td>&lt;1H OCEAN</td>\n",
       "      <td>6018</td>\n",
       "    </tr>\n",
       "    <tr>\n",
       "      <th>3</th>\n",
       "      <td>10159</td>\n",
       "      <td>-120.46</td>\n",
       "      <td>34.74</td>\n",
       "      <td>15.0</td>\n",
       "      <td>2185.0</td>\n",
       "      <td>386.0</td>\n",
       "      <td>827.0</td>\n",
       "      <td>336.0</td>\n",
       "      <td>5.3765</td>\n",
       "      <td>223100.0</td>\n",
       "      <td>NEAR OCEAN</td>\n",
       "      <td>17449</td>\n",
       "    </tr>\n",
       "    <tr>\n",
       "      <th>4</th>\n",
       "      <td>6959</td>\n",
       "      <td>-117.35</td>\n",
       "      <td>33.99</td>\n",
       "      <td>45.0</td>\n",
       "      <td>131.0</td>\n",
       "      <td>28.0</td>\n",
       "      <td>89.0</td>\n",
       "      <td>31.0</td>\n",
       "      <td>2.6071</td>\n",
       "      <td>112500.0</td>\n",
       "      <td>INLAND</td>\n",
       "      <td>11892</td>\n",
       "    </tr>\n",
       "    <tr>\n",
       "      <th>...</th>\n",
       "      <td>...</td>\n",
       "      <td>...</td>\n",
       "      <td>...</td>\n",
       "      <td>...</td>\n",
       "      <td>...</td>\n",
       "      <td>...</td>\n",
       "      <td>...</td>\n",
       "      <td>...</td>\n",
       "      <td>...</td>\n",
       "      <td>...</td>\n",
       "      <td>...</td>\n",
       "      <td>...</td>\n",
       "    </tr>\n",
       "    <tr>\n",
       "      <th>8395</th>\n",
       "      <td>11964</td>\n",
       "      <td>-121.92</td>\n",
       "      <td>38.57</td>\n",
       "      <td>10.0</td>\n",
       "      <td>1320.0</td>\n",
       "      <td>246.0</td>\n",
       "      <td>898.0</td>\n",
       "      <td>228.0</td>\n",
       "      <td>1.9327</td>\n",
       "      <td>193800.0</td>\n",
       "      <td>INLAND</td>\n",
       "      <td>20574</td>\n",
       "    </tr>\n",
       "    <tr>\n",
       "      <th>8396</th>\n",
       "      <td>5191</td>\n",
       "      <td>-118.39</td>\n",
       "      <td>34.08</td>\n",
       "      <td>28.0</td>\n",
       "      <td>833.0</td>\n",
       "      <td>230.0</td>\n",
       "      <td>349.0</td>\n",
       "      <td>210.0</td>\n",
       "      <td>3.0670</td>\n",
       "      <td>375000.0</td>\n",
       "      <td>&lt;1H OCEAN</td>\n",
       "      <td>8845</td>\n",
       "    </tr>\n",
       "    <tr>\n",
       "      <th>8397</th>\n",
       "      <td>5390</td>\n",
       "      <td>-119.85</td>\n",
       "      <td>36.97</td>\n",
       "      <td>13.0</td>\n",
       "      <td>2872.0</td>\n",
       "      <td>477.0</td>\n",
       "      <td>1607.0</td>\n",
       "      <td>481.0</td>\n",
       "      <td>4.4750</td>\n",
       "      <td>102400.0</td>\n",
       "      <td>INLAND</td>\n",
       "      <td>9239</td>\n",
       "    </tr>\n",
       "    <tr>\n",
       "      <th>8398</th>\n",
       "      <td>860</td>\n",
       "      <td>-122.07</td>\n",
       "      <td>37.89</td>\n",
       "      <td>38.0</td>\n",
       "      <td>2139.0</td>\n",
       "      <td>343.0</td>\n",
       "      <td>809.0</td>\n",
       "      <td>340.0</td>\n",
       "      <td>5.5636</td>\n",
       "      <td>268800.0</td>\n",
       "      <td>NEAR BAY</td>\n",
       "      <td>1528</td>\n",
       "    </tr>\n",
       "    <tr>\n",
       "      <th>8399</th>\n",
       "      <td>7270</td>\n",
       "      <td>-116.24</td>\n",
       "      <td>33.72</td>\n",
       "      <td>25.0</td>\n",
       "      <td>5236.0</td>\n",
       "      <td>1039.0</td>\n",
       "      <td>2725.0</td>\n",
       "      <td>935.0</td>\n",
       "      <td>3.7750</td>\n",
       "      <td>93400.0</td>\n",
       "      <td>INLAND</td>\n",
       "      <td>12410</td>\n",
       "    </tr>\n",
       "  </tbody>\n",
       "</table>\n",
       "<p>8400 rows × 12 columns</p>\n",
       "</div>"
      ],
      "text/plain": [
       "      Unnamed: 0  longitude  latitude  housing_median_age  total_rooms  \\\n",
       "0           7729    -121.32     36.79                30.0        516.0   \n",
       "1           3546    -117.74     34.03                27.0       3623.0   \n",
       "2           3527    -117.80     34.05                 5.0       4536.0   \n",
       "3          10159    -120.46     34.74                15.0       2185.0   \n",
       "4           6959    -117.35     33.99                45.0        131.0   \n",
       "...          ...        ...       ...                 ...          ...   \n",
       "8395       11964    -121.92     38.57                10.0       1320.0   \n",
       "8396        5191    -118.39     34.08                28.0        833.0   \n",
       "8397        5390    -119.85     36.97                13.0       2872.0   \n",
       "8398         860    -122.07     37.89                38.0       2139.0   \n",
       "8399        7270    -116.24     33.72                25.0       5236.0   \n",
       "\n",
       "      total_bedrooms  population  households  median_income  \\\n",
       "0               90.0       288.0        95.0         3.6333   \n",
       "1              809.0      3712.0       754.0         3.4609   \n",
       "2             1178.0      2485.0       909.0         4.1118   \n",
       "3              386.0       827.0       336.0         5.3765   \n",
       "4               28.0        89.0        31.0         2.6071   \n",
       "...              ...         ...         ...            ...   \n",
       "8395           246.0       898.0       228.0         1.9327   \n",
       "8396           230.0       349.0       210.0         3.0670   \n",
       "8397           477.0      1607.0       481.0         4.4750   \n",
       "8398           343.0       809.0       340.0         5.5636   \n",
       "8399          1039.0      2725.0       935.0         3.7750   \n",
       "\n",
       "      median_house_value ocean_proximity     id  \n",
       "0               202500.0          INLAND  13171  \n",
       "1               123300.0          INLAND   6050  \n",
       "2               125900.0       <1H OCEAN   6018  \n",
       "3               223100.0      NEAR OCEAN  17449  \n",
       "4               112500.0          INLAND  11892  \n",
       "...                  ...             ...    ...  \n",
       "8395            193800.0          INLAND  20574  \n",
       "8396            375000.0       <1H OCEAN   8845  \n",
       "8397            102400.0          INLAND   9239  \n",
       "8398            268800.0        NEAR BAY   1528  \n",
       "8399             93400.0          INLAND  12410  \n",
       "\n",
       "[8400 rows x 12 columns]"
      ]
     },
     "execution_count": 15,
     "metadata": {},
     "output_type": "execute_result"
    }
   ],
   "source": [
    "df_train"
   ]
  },
  {
   "cell_type": "code",
   "execution_count": 9,
   "id": "c66692ca-72e8-4a0c-8fc2-22a995d3c92c",
   "metadata": {},
   "outputs": [
    {
     "data": {
      "text/plain": [
       "Unnamed: 0             0\n",
       "longitude              0\n",
       "latitude               0\n",
       "housing_median_age     0\n",
       "total_rooms            0\n",
       "total_bedrooms        82\n",
       "population             0\n",
       "households             0\n",
       "median_income          0\n",
       "median_house_value     0\n",
       "ocean_proximity        0\n",
       "id                     0\n",
       "dtype: int64"
      ]
     },
     "execution_count": 9,
     "metadata": {},
     "output_type": "execute_result"
    }
   ],
   "source": [
    "df_train.isna().sum()"
   ]
  },
  {
   "cell_type": "code",
   "execution_count": 11,
   "id": "271d92c1-ee21-45a5-8bf3-8ae2b43ab549",
   "metadata": {},
   "outputs": [],
   "source": [
    "ModelRegL = LinearRegression()"
   ]
  },
  {
   "cell_type": "code",
   "execution_count": 13,
   "id": "324b0492-fa1f-4122-b8d0-ae6c183d3b1b",
   "metadata": {},
   "outputs": [
    {
     "data": {
      "text/plain": [
       "array(['INLAND', '<1H OCEAN', 'NEAR OCEAN', 'NEAR BAY', 'ISLAND'],\n",
       "      dtype=object)"
      ]
     },
     "execution_count": 13,
     "metadata": {},
     "output_type": "execute_result"
    }
   ],
   "source": [
    "df_train[\"ocean_proximity\"].unique()"
   ]
  },
  {
   "cell_type": "code",
   "execution_count": null,
   "id": "20cb2757-4857-4215-9588-764c566f186c",
   "metadata": {},
   "outputs": [],
   "source": []
  }
 ],
 "metadata": {
  "kernelspec": {
   "display_name": "Python 3 (ipykernel)",
   "language": "python",
   "name": "python3"
  },
  "language_info": {
   "codemirror_mode": {
    "name": "ipython",
    "version": 3
   },
   "file_extension": ".py",
   "mimetype": "text/x-python",
   "name": "python",
   "nbconvert_exporter": "python",
   "pygments_lexer": "ipython3",
   "version": "3.10.4"
  }
 },
 "nbformat": 4,
 "nbformat_minor": 5
}
